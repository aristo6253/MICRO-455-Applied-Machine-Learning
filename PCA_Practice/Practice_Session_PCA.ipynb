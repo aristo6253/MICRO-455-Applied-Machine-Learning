{
 "cells": [
  {
   "cell_type": "markdown",
   "metadata": {},
   "source": [
    "# Practice Session I: PCA\n",
    "\n",
    "## 1. Goals\n",
    "\n",
    "The goal of this assignment is: (a) to learn how to use the Principal Component Analysis (PCA) technique presented during the class and (b) to get you acquainted with cases in which PCA can perform well and cases when it does not.\n",
    "\n",
    "The document is divided into three parts:\n",
    "* **Part 1 - Getting started:** Instructions on how to download and run MIDemos.\n",
    "\n",
    "* **Part 2 - How-to:** Instructions on how to perform the objectives of the first practicals:\n",
    "importing a dataset, visualizing data, performing PCA\n",
    "\n",
    "* **Part 3-Tasks and Questions:** Set of tasks to be performed during the practical and\n",
    "questions you must answer in your final report. Do not forget to justify your answers for\n",
    "each question. Lack of justification may lead to loss of points.\n",
    "\n",
    "For this first practical you will focus on loading various real-life datasets, visualizing the\n",
    "data distribution and then selecting good projections of the data through Principal Component\n",
    "Analysis. A good projection is such that it improves the separability of the data or reduces\n",
    "the dimensionality of the dataset, or do both. Throughout the practical session, you will be\n",
    "working on the following real data:\n",
    "\n",
    "1. Wine cultivar\n",
    "\n",
    "2. Autonomous driving\n",
    "\n",
    "3. Fault detection of metal plates\n",
    "\n",
    "4. Faces\n",
    "\n",
    "You can download and find a description of the datasets here."
   ]
  },
  {
   "cell_type": "markdown",
   "metadata": {},
   "source": [
    "### Getting Started\n",
    "\n",
    "#### Using the VMs\n",
    "\n",
    "1. Login at the terminal with your GASPAR account\n",
    "\n",
    "If you are not already in avirtual machine:\n",
    "\n",
    "    (a) Open the VMware horizon client and login with the GASPAR account\n",
    "    (b) Select the STI Windows 10 Virtual Machine\n",
    "    \n",
    "2. Download and extract MLdeoms under the Documents folder.\n",
    "3. Launch mldemos.exe\n",
    "\n",
    "#### Installation on Windows Machine\n",
    "If you are not using the ST-Windows 10 virtual machine,you can download ML demos to your\n",
    "Windows machine, download MLDemos. All you need to do is to:\n",
    "1. Get the software (downloadable on Moodle or at __http://lasa.epfl.ch/teaching/lectures/ML_Msc/MLDemos-Windows.zip__)\n",
    "2. Unzip it in the folder of your choice\n",
    "3. Run the executable mldemos.ere\n",
    "The software will provide a graphical interface for visualizing the data and algorithms you\n",
    "will use throughout this year.\n",
    "Important: The only maintained and updated version of MLDemos is the Windows version.\n",
    "If your personal computer is a mac or linux, you have to use the virtual machine which can\n",
    "accessed remotely by any OS at __http://vdi.epfl.ch__)"
   ]
  },
  {
   "cell_type": "markdown",
   "metadata": {},
   "source": []
  }
 ],
 "metadata": {
  "kernelspec": {
   "display_name": "Python 3.10.7 64-bit (microsoft store)",
   "language": "python",
   "name": "python3"
  },
  "language_info": {
   "name": "python",
   "version": "3.10.7"
  },
  "orig_nbformat": 4,
  "vscode": {
   "interpreter": {
    "hash": "c83161378ec630a3c26968e68f95a7e18564679005b53f0c4ea8d5e57d5d502e"
   }
  }
 },
 "nbformat": 4,
 "nbformat_minor": 2
}
